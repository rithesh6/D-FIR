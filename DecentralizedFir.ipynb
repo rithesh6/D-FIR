{
 "cells": [
  {
   "cell_type": "code",
   "execution_count": 1,
   "metadata": {},
   "outputs": [
    {
     "name": "stderr",
     "output_type": "stream",
     "text": [
      "'apt' is not recognized as an internal or external command,\n",
      "operable program or batch file.\n"
     ]
    },
    {
     "name": "stdout",
     "output_type": "stream",
     "text": [
      "^C\n",
      "Note: you may need to restart the kernel to use updated packages.\n"
     ]
    }
   ],
   "source": [
    "!apt install libsodium-dev libsecp256k1-dev libgmp-dev\n",
    "%pip install pytezos==3.2.6"
   ]
  },
  {
   "cell_type": "code",
   "execution_count": 7,
   "metadata": {},
   "outputs": [
    {
     "ename": "ModuleNotFoundError",
     "evalue": "No module named 'pytezos'",
     "output_type": "error",
     "traceback": [
      "\u001b[1;31m---------------------------------------------------------------------------\u001b[0m",
      "\u001b[1;31mModuleNotFoundError\u001b[0m                       Traceback (most recent call last)",
      "\u001b[1;32md:\\Hackathon\\D-FIR\\DecentralizedFir.ipynb Cell 2\u001b[0m in \u001b[0;36m<cell line: 1>\u001b[1;34m()\u001b[0m\n\u001b[1;32m----> <a href='vscode-notebook-cell:/d%3A/Hackathon/D-FIR/DecentralizedFir.ipynb#W1sZmlsZQ%3D%3D?line=0'>1</a>\u001b[0m \u001b[39mfrom\u001b[39;00m \u001b[39mpytezos\u001b[39;00m \u001b[39mimport\u001b[39;00m pytezos\n\u001b[0;32m      <a href='vscode-notebook-cell:/d%3A/Hackathon/D-FIR/DecentralizedFir.ipynb#W1sZmlsZQ%3D%3D?line=1'>2</a>\u001b[0m \u001b[39m# import streamlit as st\u001b[39;00m\n\u001b[0;32m      <a href='vscode-notebook-cell:/d%3A/Hackathon/D-FIR/DecentralizedFir.ipynb#W1sZmlsZQ%3D%3D?line=4'>5</a>\u001b[0m pytezos \u001b[39m=\u001b[39m pytezos\u001b[39m.\u001b[39musing(shell \u001b[39m=\u001b[39m \u001b[39m'\u001b[39m\u001b[39mhttps://jakartanet.smartpy.io\u001b[39m\u001b[39m'\u001b[39m, key\u001b[39m=\u001b[39m\u001b[39m'\u001b[39m\u001b[39medskRv1Ac5psqCpJ5GVkYbbnJgbjmhGHU6axTVezNK41Yj8XUBNhmswzcg75MMrTDkUvBagUS8kfSsDbD2T1tafSgmsgkEaR24\u001b[39m\u001b[39m'\u001b[39m)\n",
      "\u001b[1;31mModuleNotFoundError\u001b[0m: No module named 'pytezos'"
     ]
    }
   ],
   "source": [
    "from pytezos import pytezos\n",
    "# import streamlit as st\n",
    "\n",
    "\n",
    "pytezos = pytezos.using(shell = 'https://jakartanet.smartpy.io', key='edskRv1Ac5psqCpJ5GVkYbbnJgbjmhGHU6axTVezNK41Yj8XUBNhmswzcg75MMrTDkUvBagUS8kfSsDbD2T1tafSgmsgkEaR24')\n",
    "contract = pytezos.contract('KT1P1kj39a24DLFDuZpq3kLuRrXbMEjfVkcT')\n",
    "contract"
   ]
  },
  {
   "cell_type": "code",
   "execution_count": null,
   "metadata": {},
   "outputs": [
    {
     "data": {
      "text/plain": [
       "<pytezos.jupyter.ContractInterface object at 0x7f0795078b20>\n",
       "\n",
       "Properties\n",
       ".key\t\ttz1SZcZ7gG8Ao62ieS9VKNo2VygtaanK8b5r\n",
       ".shell\t\t['https://jakartanet.smartpy.io']\n",
       ".address\tKT1P1kj39a24DLFDuZpq3kLuRrXbMEjfVkcT\n",
       ".block_id\thead\n",
       ".storage\t# access storage data at block `block_id`\n",
       ".parameter\t# root entrypoint\n",
       "\n",
       "Entrypoints\n",
       ".addFir()\n",
       "\n",
       "Helpers\n",
       ".big_map_get()\n",
       ".create_from()\n",
       ".from_context()\n",
       ".from_file()\n",
       ".from_micheline()\n",
       ".from_michelson()\n",
       ".from_url()\n",
       ".metadata()\n",
       ".metadata_url()\n",
       ".operation_result()\n",
       ".originate()\n",
       ".program()\n",
       ".script()\n",
       ".storage_from_file()\n",
       ".storage_from_micheline()\n",
       ".storage_from_michelson()\n",
       ".to_file()\n",
       ".to_micheline()\n",
       ".to_michelson()\n",
       ".using()"
      ]
     },
     "execution_count": 3,
     "metadata": {},
     "output_type": "execute_result"
    }
   ],
   "source": [
    "usds = pytezos.using(shell = 'https://jakartanet.smartpy.io').contract('KT1P1kj39a24DLFDuZpq3kLuRrXbMEjfVkcT')\n",
    "usds"
   ]
  },
  {
   "cell_type": "code",
   "execution_count": null,
   "metadata": {},
   "outputs": [
    {
     "data": {
      "text/plain": [
       "{}"
      ]
     },
     "execution_count": 4,
     "metadata": {},
     "output_type": "execute_result"
    }
   ],
   "source": [
    "usds.using(block_id='head~10').storage()"
   ]
  },
  {
   "cell_type": "code",
   "execution_count": null,
   "metadata": {},
   "outputs": [
    {
     "name": "stdout",
     "output_type": "stream",
     "text": [
      "Requirement already satisfied: colab-everything in /home/rithesh6/.local/lib/python3.8/site-packages (0.0.9)\n",
      "Requirement already satisfied: streamlit in /home/rithesh6/.local/lib/python3.8/site-packages (1.10.0)\n",
      "Requirement already satisfied: urllib3==1.25.10 in /home/rithesh6/.local/lib/python3.8/site-packages (from colab-everything) (1.25.10)\n",
      "Requirement already satisfied: pyngrok in /home/rithesh6/.local/lib/python3.8/site-packages (from colab-everything) (5.1.0)\n",
      "Requirement already satisfied: pyarrow in /home/rithesh6/.local/lib/python3.8/site-packages (from streamlit) (8.0.0)\n",
      "Requirement already satisfied: validators in /home/rithesh6/.local/lib/python3.8/site-packages (from streamlit) (0.20.0)\n",
      "Requirement already satisfied: requests in /usr/lib/python3/dist-packages (from streamlit) (2.22.0)\n",
      "Requirement already satisfied: importlib-metadata>=1.4 in /home/rithesh6/.local/lib/python3.8/site-packages (from streamlit) (4.11.4)\n",
      "Requirement already satisfied: cachetools>=4.0 in /home/rithesh6/.local/lib/python3.8/site-packages (from streamlit) (5.2.0)\n",
      "Requirement already satisfied: click>=7.0 in /home/rithesh6/.local/lib/python3.8/site-packages (from streamlit) (8.1.3)\n",
      "Requirement already satisfied: pandas>=0.21.0 in /home/rithesh6/.local/lib/python3.8/site-packages (from streamlit) (1.4.2)\n",
      "Requirement already satisfied: numpy in /usr/local/lib/python3.8/dist-packages (from streamlit) (1.22.1)\n",
      "Requirement already satisfied: pillow>=6.2.0 in /home/rithesh6/.local/lib/python3.8/site-packages (from streamlit) (9.0.0)\n",
      "Requirement already satisfied: altair>=3.2.0 in /home/rithesh6/.local/lib/python3.8/site-packages (from streamlit) (4.2.0)\n",
      "Requirement already satisfied: pympler>=0.9 in /home/rithesh6/.local/lib/python3.8/site-packages (from streamlit) (1.0.1)\n",
      "Requirement already satisfied: packaging in /usr/local/lib/python3.8/dist-packages (from streamlit) (21.3)\n",
      "Requirement already satisfied: pydeck>=0.1.dev5 in /home/rithesh6/.local/lib/python3.8/site-packages (from streamlit) (0.7.1)\n",
      "Requirement already satisfied: tornado>=5.0 in /home/rithesh6/.local/lib/python3.8/site-packages (from streamlit) (6.1)\n",
      "Requirement already satisfied: tzlocal in /home/rithesh6/.local/lib/python3.8/site-packages (from streamlit) (4.2)\n",
      "Requirement already satisfied: rich in /home/rithesh6/.local/lib/python3.8/site-packages (from streamlit) (12.4.4)\n",
      "Requirement already satisfied: python-dateutil in /home/rithesh6/.local/lib/python3.8/site-packages (from streamlit) (2.8.2)\n",
      "Requirement already satisfied: toml in /home/rithesh6/.local/lib/python3.8/site-packages (from streamlit) (0.10.2)\n",
      "Requirement already satisfied: semver in /home/rithesh6/.local/lib/python3.8/site-packages (from streamlit) (2.13.0)\n",
      "Requirement already satisfied: attrs in /home/rithesh6/.local/lib/python3.8/site-packages (from streamlit) (20.3.0)\n",
      "Requirement already satisfied: watchdog; platform_system != \"Darwin\" in /home/rithesh6/.local/lib/python3.8/site-packages (from streamlit) (2.1.9)\n",
      "Requirement already satisfied: protobuf<4,>=3.12 in /home/rithesh6/.local/lib/python3.8/site-packages (from streamlit) (3.20.1)\n",
      "Requirement already satisfied: gitpython!=3.1.19 in /home/rithesh6/.local/lib/python3.8/site-packages (from streamlit) (3.1.27)\n",
      "Requirement already satisfied: blinker in /usr/lib/python3/dist-packages (from streamlit) (1.4)\n",
      "Requirement already satisfied: typing-extensions in /home/rithesh6/.local/lib/python3.8/site-packages (from streamlit) (3.10.0.2)\n",
      "Requirement already satisfied: PyYAML in /usr/lib/python3/dist-packages (from pyngrok->colab-everything) (5.3.1)\n",
      "Requirement already satisfied: decorator>=3.4.0 in /home/rithesh6/.local/lib/python3.8/site-packages (from validators->streamlit) (5.1.1)\n",
      "Requirement already satisfied: zipp>=0.5 in /home/rithesh6/.local/lib/python3.8/site-packages (from importlib-metadata>=1.4->streamlit) (3.7.0)\n",
      "Requirement already satisfied: pytz>=2020.1 in /home/rithesh6/.local/lib/python3.8/site-packages (from pandas>=0.21.0->streamlit) (2022.1)\n",
      "Requirement already satisfied: jsonschema>=3.0 in /home/rithesh6/.local/lib/python3.8/site-packages (from altair>=3.2.0->streamlit) (3.2.0)\n",
      "Requirement already satisfied: jinja2 in /home/rithesh6/.local/lib/python3.8/site-packages (from altair>=3.2.0->streamlit) (3.1.2)\n",
      "Requirement already satisfied: entrypoints in /usr/lib/python3/dist-packages (from altair>=3.2.0->streamlit) (0.3)\n",
      "Requirement already satisfied: toolz in /home/rithesh6/.local/lib/python3.8/site-packages (from altair>=3.2.0->streamlit) (0.11.2)\n",
      "Requirement already satisfied: pyparsing!=3.0.5,>=2.0.2 in /usr/local/lib/python3.8/dist-packages (from packaging->streamlit) (3.0.7)\n",
      "Requirement already satisfied: ipywidgets>=7.0.0 in /home/rithesh6/.local/lib/python3.8/site-packages (from pydeck>=0.1.dev5->streamlit) (7.7.0)\n",
      "Requirement already satisfied: ipykernel>=5.1.2; python_version >= \"3.4\" in /home/rithesh6/.local/lib/python3.8/site-packages (from pydeck>=0.1.dev5->streamlit) (5.5.6)\n",
      "Requirement already satisfied: traitlets>=4.3.2 in /home/rithesh6/.local/lib/python3.8/site-packages (from pydeck>=0.1.dev5->streamlit) (5.1.1)\n",
      "Requirement already satisfied: pytz-deprecation-shim in /home/rithesh6/.local/lib/python3.8/site-packages (from tzlocal->streamlit) (0.1.0.post0)\n",
      "Requirement already satisfied: backports.zoneinfo; python_version < \"3.9\" in /home/rithesh6/.local/lib/python3.8/site-packages (from tzlocal->streamlit) (0.2.1)\n",
      "Requirement already satisfied: pygments<3.0.0,>=2.6.0 in /usr/local/lib/python3.8/dist-packages (from rich->streamlit) (2.11.1)\n",
      "Requirement already satisfied: commonmark<0.10.0,>=0.9.0 in /home/rithesh6/.local/lib/python3.8/site-packages (from rich->streamlit) (0.9.1)\n",
      "Requirement already satisfied: six>=1.5 in /usr/lib/python3/dist-packages (from python-dateutil->streamlit) (1.14.0)\n",
      "Requirement already satisfied: gitdb<5,>=4.0.1 in /home/rithesh6/.local/lib/python3.8/site-packages (from gitpython!=3.1.19->streamlit) (4.0.9)\n",
      "Requirement already satisfied: pyrsistent>=0.14.0 in /home/rithesh6/.local/lib/python3.8/site-packages (from jsonschema>=3.0->altair>=3.2.0->streamlit) (0.18.1)\n",
      "Requirement already satisfied: setuptools in /usr/lib/python3/dist-packages (from jsonschema>=3.0->altair>=3.2.0->streamlit) (45.2.0)\n",
      "Requirement already satisfied: MarkupSafe>=2.0 in /home/rithesh6/.local/lib/python3.8/site-packages (from jinja2->altair>=3.2.0->streamlit) (2.1.1)\n",
      "Requirement already satisfied: nbformat>=4.2.0 in /home/rithesh6/.local/lib/python3.8/site-packages (from ipywidgets>=7.0.0->pydeck>=0.1.dev5->streamlit) (5.4.0)\n",
      "Requirement already satisfied: ipython>=4.0.0; python_version >= \"3.3\" in /home/rithesh6/.local/lib/python3.8/site-packages (from ipywidgets>=7.0.0->pydeck>=0.1.dev5->streamlit) (8.2.0)\n",
      "Requirement already satisfied: widgetsnbextension~=3.6.0 in /home/rithesh6/.local/lib/python3.8/site-packages (from ipywidgets>=7.0.0->pydeck>=0.1.dev5->streamlit) (3.6.0)\n",
      "Requirement already satisfied: jupyterlab-widgets>=1.0.0; python_version >= \"3.6\" in /home/rithesh6/.local/lib/python3.8/site-packages (from ipywidgets>=7.0.0->pydeck>=0.1.dev5->streamlit) (1.1.0)\n",
      "Requirement already satisfied: ipython-genutils~=0.2.0 in /home/rithesh6/.local/lib/python3.8/site-packages (from ipywidgets>=7.0.0->pydeck>=0.1.dev5->streamlit) (0.2.0)\n",
      "Requirement already satisfied: jupyter-client in /home/rithesh6/.local/lib/python3.8/site-packages (from ipykernel>=5.1.2; python_version >= \"3.4\"->pydeck>=0.1.dev5->streamlit) (6.1.12)\n",
      "Requirement already satisfied: tzdata; python_version >= \"3.6\" in /home/rithesh6/.local/lib/python3.8/site-packages (from pytz-deprecation-shim->tzlocal->streamlit) (2022.1)\n",
      "Requirement already satisfied: smmap<6,>=3.0.1 in /home/rithesh6/.local/lib/python3.8/site-packages (from gitdb<5,>=4.0.1->gitpython!=3.1.19->streamlit) (5.0.0)\n",
      "Requirement already satisfied: fastjsonschema in /home/rithesh6/.local/lib/python3.8/site-packages (from nbformat>=4.2.0->ipywidgets>=7.0.0->pydeck>=0.1.dev5->streamlit) (2.15.3)\n",
      "Requirement already satisfied: jupyter-core in /home/rithesh6/.local/lib/python3.8/site-packages (from nbformat>=4.2.0->ipywidgets>=7.0.0->pydeck>=0.1.dev5->streamlit) (4.10.0)\n",
      "Requirement already satisfied: matplotlib-inline in /home/rithesh6/.local/lib/python3.8/site-packages (from ipython>=4.0.0; python_version >= \"3.3\"->ipywidgets>=7.0.0->pydeck>=0.1.dev5->streamlit) (0.1.3)\n",
      "Requirement already satisfied: stack-data in /home/rithesh6/.local/lib/python3.8/site-packages (from ipython>=4.0.0; python_version >= \"3.3\"->ipywidgets>=7.0.0->pydeck>=0.1.dev5->streamlit) (0.2.0)\n",
      "Requirement already satisfied: pexpect>4.3; sys_platform != \"win32\" in /usr/lib/python3/dist-packages (from ipython>=4.0.0; python_version >= \"3.3\"->ipywidgets>=7.0.0->pydeck>=0.1.dev5->streamlit) (4.6.0)\n",
      "Requirement already satisfied: jedi>=0.16 in /home/rithesh6/.local/lib/python3.8/site-packages (from ipython>=4.0.0; python_version >= \"3.3\"->ipywidgets>=7.0.0->pydeck>=0.1.dev5->streamlit) (0.18.1)\n",
      "Requirement already satisfied: pickleshare in /home/rithesh6/.local/lib/python3.8/site-packages (from ipython>=4.0.0; python_version >= \"3.3\"->ipywidgets>=7.0.0->pydeck>=0.1.dev5->streamlit) (0.7.5)\n",
      "Requirement already satisfied: prompt-toolkit!=3.0.0,!=3.0.1,<3.1.0,>=2.0.0 in /home/rithesh6/.local/lib/python3.8/site-packages (from ipython>=4.0.0; python_version >= \"3.3\"->ipywidgets>=7.0.0->pydeck>=0.1.dev5->streamlit) (3.0.29)\n",
      "Requirement already satisfied: backcall in /home/rithesh6/.local/lib/python3.8/site-packages (from ipython>=4.0.0; python_version >= \"3.3\"->ipywidgets>=7.0.0->pydeck>=0.1.dev5->streamlit) (0.2.0)\n",
      "Requirement already satisfied: notebook>=4.4.1 in /home/rithesh6/.local/lib/python3.8/site-packages (from widgetsnbextension~=3.6.0->ipywidgets>=7.0.0->pydeck>=0.1.dev5->streamlit) (6.4.11)\n",
      "Requirement already satisfied: pyzmq>=13 in /home/rithesh6/.local/lib/python3.8/site-packages (from jupyter-client->ipykernel>=5.1.2; python_version >= \"3.4\"->pydeck>=0.1.dev5->streamlit) (22.3.0)\n",
      "Requirement already satisfied: asttokens in /home/rithesh6/.local/lib/python3.8/site-packages (from stack-data->ipython>=4.0.0; python_version >= \"3.3\"->ipywidgets>=7.0.0->pydeck>=0.1.dev5->streamlit) (2.0.5)\n",
      "Requirement already satisfied: pure-eval in /home/rithesh6/.local/lib/python3.8/site-packages (from stack-data->ipython>=4.0.0; python_version >= \"3.3\"->ipywidgets>=7.0.0->pydeck>=0.1.dev5->streamlit) (0.2.2)\n",
      "Requirement already satisfied: executing in /home/rithesh6/.local/lib/python3.8/site-packages (from stack-data->ipython>=4.0.0; python_version >= \"3.3\"->ipywidgets>=7.0.0->pydeck>=0.1.dev5->streamlit) (0.8.3)\n",
      "Requirement already satisfied: parso<0.9.0,>=0.8.0 in /home/rithesh6/.local/lib/python3.8/site-packages (from jedi>=0.16->ipython>=4.0.0; python_version >= \"3.3\"->ipywidgets>=7.0.0->pydeck>=0.1.dev5->streamlit) (0.8.3)\n",
      "Requirement already satisfied: wcwidth in /home/rithesh6/.local/lib/python3.8/site-packages (from prompt-toolkit!=3.0.0,!=3.0.1,<3.1.0,>=2.0.0->ipython>=4.0.0; python_version >= \"3.3\"->ipywidgets>=7.0.0->pydeck>=0.1.dev5->streamlit) (0.2.5)\n",
      "Requirement already satisfied: Send2Trash>=1.8.0 in /home/rithesh6/.local/lib/python3.8/site-packages (from notebook>=4.4.1->widgetsnbextension~=3.6.0->ipywidgets>=7.0.0->pydeck>=0.1.dev5->streamlit) (1.8.0)\n",
      "Requirement already satisfied: prometheus-client in /home/rithesh6/.local/lib/python3.8/site-packages (from notebook>=4.4.1->widgetsnbextension~=3.6.0->ipywidgets>=7.0.0->pydeck>=0.1.dev5->streamlit) (0.14.1)\n",
      "Requirement already satisfied: nbconvert>=5 in /home/rithesh6/.local/lib/python3.8/site-packages (from notebook>=4.4.1->widgetsnbextension~=3.6.0->ipywidgets>=7.0.0->pydeck>=0.1.dev5->streamlit) (6.5.0)\n",
      "Requirement already satisfied: terminado>=0.8.3 in /home/rithesh6/.local/lib/python3.8/site-packages (from notebook>=4.4.1->widgetsnbextension~=3.6.0->ipywidgets>=7.0.0->pydeck>=0.1.dev5->streamlit) (0.15.0)\n",
      "Requirement already satisfied: argon2-cffi in /home/rithesh6/.local/lib/python3.8/site-packages (from notebook>=4.4.1->widgetsnbextension~=3.6.0->ipywidgets>=7.0.0->pydeck>=0.1.dev5->streamlit) (21.3.0)\n",
      "Requirement already satisfied: nest-asyncio>=1.5 in /home/rithesh6/.local/lib/python3.8/site-packages (from notebook>=4.4.1->widgetsnbextension~=3.6.0->ipywidgets>=7.0.0->pydeck>=0.1.dev5->streamlit) (1.5.5)\n",
      "Requirement already satisfied: mistune<2,>=0.8.1 in /home/rithesh6/.local/lib/python3.8/site-packages (from nbconvert>=5->notebook>=4.4.1->widgetsnbextension~=3.6.0->ipywidgets>=7.0.0->pydeck>=0.1.dev5->streamlit) (0.8.4)\n",
      "Requirement already satisfied: defusedxml in /home/rithesh6/.local/lib/python3.8/site-packages (from nbconvert>=5->notebook>=4.4.1->widgetsnbextension~=3.6.0->ipywidgets>=7.0.0->pydeck>=0.1.dev5->streamlit) (0.7.1)\n",
      "Requirement already satisfied: bleach in /home/rithesh6/.local/lib/python3.8/site-packages (from nbconvert>=5->notebook>=4.4.1->widgetsnbextension~=3.6.0->ipywidgets>=7.0.0->pydeck>=0.1.dev5->streamlit) (5.0.0)\n",
      "Requirement already satisfied: beautifulsoup4 in /usr/local/lib/python3.8/dist-packages (from nbconvert>=5->notebook>=4.4.1->widgetsnbextension~=3.6.0->ipywidgets>=7.0.0->pydeck>=0.1.dev5->streamlit) (4.10.0)\n",
      "Requirement already satisfied: pandocfilters>=1.4.1 in /home/rithesh6/.local/lib/python3.8/site-packages (from nbconvert>=5->notebook>=4.4.1->widgetsnbextension~=3.6.0->ipywidgets>=7.0.0->pydeck>=0.1.dev5->streamlit) (1.5.0)\n",
      "Requirement already satisfied: nbclient>=0.5.0 in /home/rithesh6/.local/lib/python3.8/site-packages (from nbconvert>=5->notebook>=4.4.1->widgetsnbextension~=3.6.0->ipywidgets>=7.0.0->pydeck>=0.1.dev5->streamlit) (0.6.3)\n",
      "Requirement already satisfied: tinycss2 in /home/rithesh6/.local/lib/python3.8/site-packages (from nbconvert>=5->notebook>=4.4.1->widgetsnbextension~=3.6.0->ipywidgets>=7.0.0->pydeck>=0.1.dev5->streamlit) (1.1.1)\n",
      "Requirement already satisfied: jupyterlab-pygments in /home/rithesh6/.local/lib/python3.8/site-packages (from nbconvert>=5->notebook>=4.4.1->widgetsnbextension~=3.6.0->ipywidgets>=7.0.0->pydeck>=0.1.dev5->streamlit) (0.2.2)\n",
      "Requirement already satisfied: ptyprocess; os_name != \"nt\" in /home/rithesh6/.local/lib/python3.8/site-packages (from terminado>=0.8.3->notebook>=4.4.1->widgetsnbextension~=3.6.0->ipywidgets>=7.0.0->pydeck>=0.1.dev5->streamlit) (0.7.0)\n",
      "Requirement already satisfied: argon2-cffi-bindings in /home/rithesh6/.local/lib/python3.8/site-packages (from argon2-cffi->notebook>=4.4.1->widgetsnbextension~=3.6.0->ipywidgets>=7.0.0->pydeck>=0.1.dev5->streamlit) (21.2.0)\n",
      "Requirement already satisfied: webencodings in /usr/lib/python3/dist-packages (from bleach->nbconvert>=5->notebook>=4.4.1->widgetsnbextension~=3.6.0->ipywidgets>=7.0.0->pydeck>=0.1.dev5->streamlit) (0.5.1)\n",
      "Requirement already satisfied: soupsieve>1.2 in /usr/local/lib/python3.8/dist-packages (from beautifulsoup4->nbconvert>=5->notebook>=4.4.1->widgetsnbextension~=3.6.0->ipywidgets>=7.0.0->pydeck>=0.1.dev5->streamlit) (2.3.1)\n",
      "Requirement already satisfied: cffi>=1.0.1 in /home/rithesh6/.local/lib/python3.8/site-packages (from argon2-cffi-bindings->argon2-cffi->notebook>=4.4.1->widgetsnbextension~=3.6.0->ipywidgets>=7.0.0->pydeck>=0.1.dev5->streamlit) (1.15.0)\n",
      "Requirement already satisfied: pycparser in /home/rithesh6/.local/lib/python3.8/site-packages (from cffi>=1.0.1->argon2-cffi-bindings->argon2-cffi->notebook>=4.4.1->widgetsnbextension~=3.6.0->ipywidgets>=7.0.0->pydeck>=0.1.dev5->streamlit) (2.21)\n"
     ]
    }
   ],
   "source": [
    "%pip install colab-everything streamlit"
   ]
  },
  {
   "cell_type": "code",
   "execution_count": null,
   "metadata": {},
   "outputs": [
    {
     "name": "stdout",
     "output_type": "stream",
     "text": [
      "Web App can be accessed on: http://8141-117-221-29-203.ngrok.io\n",
      "\n",
      "  You can now view your Streamlit app in your browser.\n",
      "\n",
      "  Local URL: http://localhost:9999\n",
      "  Network URL: http://192.168.101.84:9999\n",
      "\n"
     ]
    },
    {
     "ename": "KeyboardInterrupt",
     "evalue": "",
     "output_type": "error",
     "traceback": [
      "\u001b[0;31m---------------------------------------------------------------------------\u001b[0m",
      "\u001b[0;31mKeyboardInterrupt\u001b[0m                         Traceback (most recent call last)",
      "\u001b[1;32m/home/rithesh6/Desktop/D-FIR/DecentralizedFir.ipynb Cell 6'\u001b[0m in \u001b[0;36m<cell line: 2>\u001b[0;34m()\u001b[0m\n\u001b[1;32m      <a href='vscode-notebook-cell:/home/rithesh6/Desktop/D-FIR/DecentralizedFir.ipynb#ch0000005?line=0'>1</a>\u001b[0m \u001b[39mfrom\u001b[39;00m \u001b[39mcolab_everything\u001b[39;00m \u001b[39mimport\u001b[39;00m ColabStreamlit\n\u001b[0;32m----> <a href='vscode-notebook-cell:/home/rithesh6/Desktop/D-FIR/DecentralizedFir.ipynb#ch0000005?line=1'>2</a>\u001b[0m ColabStreamlit(\u001b[39m'\u001b[39;49m\u001b[39mapp.py\u001b[39;49m\u001b[39m'\u001b[39;49m)\n",
      "File \u001b[0;32m~/.local/lib/python3.8/site-packages/colab_everything/core.py:29\u001b[0m, in \u001b[0;36mColabStreamlit.__init__\u001b[0;34m(self, path, port)\u001b[0m\n\u001b[1;32m     <a href='file:///home/rithesh6/.local/lib/python3.8/site-packages/colab_everything/core.py?line=26'>27</a>\u001b[0m \u001b[39msuper\u001b[39m()\u001b[39m.\u001b[39m\u001b[39m__init__\u001b[39m(port)\n\u001b[1;32m     <a href='file:///home/rithesh6/.local/lib/python3.8/site-packages/colab_everything/core.py?line=27'>28</a>\u001b[0m \u001b[39mself\u001b[39m\u001b[39m.\u001b[39mpath \u001b[39m=\u001b[39m path\n\u001b[0;32m---> <a href='file:///home/rithesh6/.local/lib/python3.8/site-packages/colab_everything/core.py?line=28'>29</a>\u001b[0m \u001b[39mself\u001b[39;49m\u001b[39m.\u001b[39;49mrun_app()\n",
      "File \u001b[0;32m~/.local/lib/python3.8/site-packages/colab_everything/core.py:41\u001b[0m, in \u001b[0;36mColabStreamlit.run_app\u001b[0;34m(self, debug)\u001b[0m\n\u001b[1;32m     <a href='file:///home/rithesh6/.local/lib/python3.8/site-packages/colab_everything/core.py?line=32'>33</a>\u001b[0m cmd \u001b[39m=\u001b[39m \u001b[39mf\u001b[39m\u001b[39m'\u001b[39m\u001b[39mstreamlit run \u001b[39m\u001b[39m{\u001b[39;00m\u001b[39mself\u001b[39m\u001b[39m.\u001b[39mpath\u001b[39m}\u001b[39;00m\u001b[39m --server.port \u001b[39m\u001b[39m{\u001b[39;00m\u001b[39mself\u001b[39m\u001b[39m.\u001b[39mport\u001b[39m}\u001b[39;00m\u001b[39m'\u001b[39m\n\u001b[1;32m     <a href='file:///home/rithesh6/.local/lib/python3.8/site-packages/colab_everything/core.py?line=33'>34</a>\u001b[0m \u001b[39mwith\u001b[39;00m subprocess\u001b[39m.\u001b[39mPopen(\n\u001b[1;32m     <a href='file:///home/rithesh6/.local/lib/python3.8/site-packages/colab_everything/core.py?line=34'>35</a>\u001b[0m     [cmd],\n\u001b[1;32m     <a href='file:///home/rithesh6/.local/lib/python3.8/site-packages/colab_everything/core.py?line=35'>36</a>\u001b[0m     shell\u001b[39m=\u001b[39m\u001b[39mTrue\u001b[39;00m,\n\u001b[0;32m   (...)\u001b[0m\n\u001b[1;32m     <a href='file:///home/rithesh6/.local/lib/python3.8/site-packages/colab_everything/core.py?line=38'>39</a>\u001b[0m     universal_newlines\u001b[39m=\u001b[39m\u001b[39mTrue\u001b[39;00m,\n\u001b[1;32m     <a href='file:///home/rithesh6/.local/lib/python3.8/site-packages/colab_everything/core.py?line=39'>40</a>\u001b[0m     ) \u001b[39mas\u001b[39;00m proc:\n\u001b[0;32m---> <a href='file:///home/rithesh6/.local/lib/python3.8/site-packages/colab_everything/core.py?line=40'>41</a>\u001b[0m         \u001b[39mfor\u001b[39;00m line \u001b[39min\u001b[39;00m proc\u001b[39m.\u001b[39mstdout:\n\u001b[1;32m     <a href='file:///home/rithesh6/.local/lib/python3.8/site-packages/colab_everything/core.py?line=41'>42</a>\u001b[0m             \u001b[39mif\u001b[39;00m debug: \u001b[39mprint\u001b[39m(line, end\u001b[39m=\u001b[39m\u001b[39m\"\u001b[39m\u001b[39m\"\u001b[39m)\n",
      "\u001b[0;31mKeyboardInterrupt\u001b[0m: "
     ]
    }
   ],
   "source": [
    "from colab_everything import ColabStreamlit\n",
    "ColabStreamlit('app.py') # streamlit app path"
   ]
  }
 ],
 "metadata": {
  "kernelspec": {
   "display_name": "Python 3.9.13 64-bit (windows store)",
   "language": "python",
   "name": "python3"
  },
  "language_info": {
   "codemirror_mode": {
    "name": "ipython",
    "version": 3
   },
   "file_extension": ".py",
   "mimetype": "text/x-python",
   "name": "python",
   "nbconvert_exporter": "python",
   "pygments_lexer": "ipython3",
   "version": "3.9.13"
  },
  "orig_nbformat": 4,
  "vscode": {
   "interpreter": {
    "hash": "330291e952ef2592d61b7857e145d2070e6df96cbb58463d8ee825546f424b29"
   }
  }
 },
 "nbformat": 4,
 "nbformat_minor": 2
}
